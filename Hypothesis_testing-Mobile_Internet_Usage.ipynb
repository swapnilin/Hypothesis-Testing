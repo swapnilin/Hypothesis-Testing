{
 "cells": [
  {
   "cell_type": "markdown",
   "metadata": {
    "id": "fNQ9mYtCb3yM"
   },
   "source": [
    "# Introduction to Hypothesis Testing\n",
    "\n",
    "Hypothesis testing is a statistical method used to make inferences about population parameters based on sample data. It involves formulating a `null` and `alternative` hypotheses, selecting an appropriate test statistic, determining a significance level, and making a decision based on the test results.\n",
    "\n",
    "\n",
    "\n",
    "## Key Question\n",
    "\n",
    "ExperienceMyServices reported that a typical American spends an average of 144 minutes (2.4 hours) per day accessing the Internet via a mobile device with a standard deviation of 110 minutes.\n",
    "\n",
    "To test the validity of this statement, you collected 30 samples from friends and family. The results for the time spent per day accessing the Internet via a mobile device (in minutes) are stored in \"InternetMobileTime.csv\".\n",
    "\n",
    "Is there enough statistical evidence to conclude that the population mean time spent per day accessing the Internet via mobile device is different from 144 minutes? Use the p-value approach and a level of significance of 0.05.\n",
    "\n",
    "**Note:** We can assume that the samples are randomly selected, independent, and come from a normally distributed population"
   ]
  },
  {
   "cell_type": "markdown",
   "metadata": {},
   "source": [
    "### Important Definitions\n",
    "\n",
    "**Level of significance:** often denoted by the symbol α (alpha), is the probability of rejecting the null hypothesis when it is true. In hypothesis testing, it represents the threshold for considering a result statistically significant.\n",
    "\n",
    "**Confidence interval:** is a range of values that likely contains the true population parameter. It is typically expressed as a percentage and represents the level of certainty or confidence in our estimate.\n",
    "\n",
    "It's important to note that the `confidence interval` and the `level of significance` are related but represent different concepts in statistical inference. The confidence interval provides a range of plausible values for the population parameter, while the level of significance dictates the threshold for rejecting the null hypothesis in hypothesis testing.\n",
    "\n",
    "If we have a significance level of α = 0.05, it means that we are willing to accept a 5% chance of making a Type I error (rejecting the null hypothesis when it's actually true). This corresponds to a 95% confidence level for the confidence interval, meaning that we are 95% confident that the true population parameter falls within the calculated interval.\n",
    "\n",
    "**Mathematically, the relationship can be expressed as follows:**\n",
    "\n",
    "`Confidence level = 1 - α`\n",
    "\n",
    "For example, if α = 0.05, then the confidence level would be 1 - 0.05 = 0.95, or 95%.\n",
    "\n",
    "Similarly, if α = 0.01, then the confidence level would be 1 - 0.01 = 0.99, or 99%."
   ]
  },
  {
   "cell_type": "markdown",
   "metadata": {
    "id": "5nFy-Lkmb3yR"
   },
   "source": [
    "### Importing necessary libraries"
   ]
  },
  {
   "cell_type": "code",
   "execution_count": 3,
   "metadata": {
    "ExecuteTime": {
     "end_time": "2020-05-12T08:39:10.385004Z",
     "start_time": "2020-05-12T08:39:07.270284Z"
    },
    "id": "MyVUpMAeb3yS"
   },
   "outputs": [],
   "source": [
    "# import the important packages\n",
    "\n",
    "# pandas for data manipulation and analysis\n",
    "import pandas as pd  \n",
    "\n",
    "# Numpy for working with arrays\n",
    "import numpy as np \n",
    "\n",
    "# Matplotlib for visualization\n",
    "import matplotlib.pyplot as plt  \n",
    "\n",
    "# Seaborn for visualization\n",
    "import seaborn as sns  \n",
    "%matplotlib inline\n",
    "\n",
    "# this library contains a large number of probability distributions as well as a growing library of statistical functions\n",
    "import scipy.stats as stats  "
   ]
  },
  {
   "cell_type": "markdown",
   "metadata": {
    "id": "H0wFBWuMb3yT"
   },
   "source": [
    "### Importing the  Data"
   ]
  },
  {
   "cell_type": "code",
   "execution_count": 4,
   "metadata": {
    "ExecuteTime": {
     "end_time": "2020-05-12T08:39:10.606474Z",
     "start_time": "2020-05-12T08:39:10.476659Z"
    },
    "id": "1jnK18ELb3yT",
    "outputId": "80cc9274-047a-449f-f7af-2275449c214e"
   },
   "outputs": [
    {
     "data": {
      "text/html": [
       "<div>\n",
       "<style scoped>\n",
       "    .dataframe tbody tr th:only-of-type {\n",
       "        vertical-align: middle;\n",
       "    }\n",
       "\n",
       "    .dataframe tbody tr th {\n",
       "        vertical-align: top;\n",
       "    }\n",
       "\n",
       "    .dataframe thead th {\n",
       "        text-align: right;\n",
       "    }\n",
       "</style>\n",
       "<table border=\"1\" class=\"dataframe\">\n",
       "  <thead>\n",
       "    <tr style=\"text-align: right;\">\n",
       "      <th></th>\n",
       "      <th>Minutes</th>\n",
       "    </tr>\n",
       "  </thead>\n",
       "  <tbody>\n",
       "    <tr>\n",
       "      <th>0</th>\n",
       "      <td>72</td>\n",
       "    </tr>\n",
       "    <tr>\n",
       "      <th>1</th>\n",
       "      <td>144</td>\n",
       "    </tr>\n",
       "    <tr>\n",
       "      <th>2</th>\n",
       "      <td>48</td>\n",
       "    </tr>\n",
       "    <tr>\n",
       "      <th>3</th>\n",
       "      <td>72</td>\n",
       "    </tr>\n",
       "    <tr>\n",
       "      <th>4</th>\n",
       "      <td>36</td>\n",
       "    </tr>\n",
       "  </tbody>\n",
       "</table>\n",
       "</div>"
      ],
      "text/plain": [
       "   Minutes\n",
       "0       72\n",
       "1      144\n",
       "2       48\n",
       "3       72\n",
       "4       36"
      ]
     },
     "execution_count": 4,
     "metadata": {},
     "output_type": "execute_result"
    }
   ],
   "source": [
    "mydata = pd.read_csv('InternetMobileTime.csv')\n",
    "mydata.head()"
   ]
  },
  {
   "cell_type": "code",
   "execution_count": 5,
   "metadata": {
    "id": "rctzWw0xb3yV",
    "outputId": "0093489d-d1f4-4cce-a28a-69f3cf71138c"
   },
   "outputs": [
    {
     "data": {
      "text/plain": [
       "(30, 1)"
      ]
     },
     "execution_count": 5,
     "metadata": {},
     "output_type": "execute_result"
    }
   ],
   "source": [
    "mydata.shape"
   ]
  },
  {
   "cell_type": "markdown",
   "metadata": {
    "id": "SOItsu_8b3yW"
   },
   "source": [
    "### Step 1: Define null and alternate hypotheses"
   ]
  },
  {
   "cell_type": "markdown",
   "metadata": {
    "id": "urdL3y-yb3yX"
   },
   "source": [
    "#### Null hypothesis states that the mean Internet usage time, $\\mu$ is equal to 144.\n",
    "\n",
    "* $H_0$: $\\mu$ = 144\n",
    "\n",
    "\n",
    "#### Alternative hypothesis states that the mean Internet usage time, $\\mu$ is not equal to 144.\n",
    "\n",
    "\n",
    "* $H_a$: $\\mu$ $\\neq$ 144"
   ]
  },
  {
   "cell_type": "markdown",
   "metadata": {
    "id": "UWcBNG9jb3yY"
   },
   "source": [
    "### Step 2: Decide the significance level"
   ]
  },
  {
   "cell_type": "markdown",
   "metadata": {
    "id": "n7H1gdpJb3yY"
   },
   "source": [
    "Here, we are given that $\\alpha$ = 0.05."
   ]
  },
  {
   "cell_type": "code",
   "execution_count": 4,
   "metadata": {
    "ExecuteTime": {
     "end_time": "2020-05-12T08:39:11.495916Z",
     "start_time": "2020-05-12T08:39:11.488554Z"
    },
    "id": "Gy3bJLLmb3yZ",
    "outputId": "e0fa126e-aa28-450f-9d20-d667149ecf93"
   },
   "outputs": [
    {
     "name": "stdout",
     "output_type": "stream",
     "text": [
      "The sample size for this problem is 30\n"
     ]
    }
   ],
   "source": [
    "print(\"The sample size for this problem is\", len(mydata))"
   ]
  },
  {
   "cell_type": "markdown",
   "metadata": {
    "id": "gIND9yN0b3yZ"
   },
   "source": [
    "### Step 3: Identify the test"
   ]
  },
  {
   "cell_type": "markdown",
   "metadata": {
    "id": "Haq829H5b3ya"
   },
   "source": [
    "The alternative hypothesis (𝐻𝑎) suggests that there is a significant difference or effect, but it does not specify a direction (greater than or less than), only that the mean Internet usage time is not equal to 144. Since the alternative hypothesis does not specify a direction for the effect, we would use a `two-tail test` to determine if the mean Internet usage time is significantly different from 144, regardless of whether it is greater or less than 144.\n",
    "\n",
    "If my alternative hypothesis (𝐻𝑎) was that it is greater than 144 or that is is less than 144, I would use a `one-tail test`\n",
    "\n"
   ]
  },
  {
   "cell_type": "markdown",
   "metadata": {
    "id": "gCmn7vI5b3ya"
   },
   "source": [
    "### Step 4: Conduct two tail test"
   ]
  },
  {
   "cell_type": "code",
   "execution_count": 7,
   "metadata": {
    "id": "jAR-d5ypb3ye"
   },
   "outputs": [
    {
     "data": {
      "text/plain": [
       "180.46666666666667"
      ]
     },
     "execution_count": 7,
     "metadata": {},
     "output_type": "execute_result"
    }
   ],
   "source": [
    "# calculate the sample mean\n",
    "sample_mean = mydata[\"Minutes\"].mean()\n",
    "sample_mean"
   ]
  },
  {
   "cell_type": "code",
   "execution_count": 14,
   "metadata": {},
   "outputs": [],
   "source": [
    "# Internet usage time data\n",
    "internet_usage_times  = mydata.Minutes\n",
    "\n",
    "# Hypothesized population mean\n",
    "hypothesized_mean = 144\n"
   ]
  },
  {
   "cell_type": "markdown",
   "metadata": {},
   "source": [
    "`ttest_1samp` has an argument **'alternative'** that specifies the type of test. By default `alternative='two-sided'`"
   ]
  },
  {
   "cell_type": "code",
   "execution_count": 10,
   "metadata": {
    "ExecuteTime": {
     "end_time": "2020-05-12T08:39:14.193366Z",
     "start_time": "2020-05-12T08:39:14.185193Z"
    },
    "id": "YJj4tUYQb3ye"
   },
   "outputs": [],
   "source": [
    "# Perform two-tail t-test\n",
    "t_statistic, p_value = stats.ttest_1samp(internet_usage_times, hypothesized_mean)"
   ]
  },
  {
   "cell_type": "markdown",
   "metadata": {},
   "source": [
    "**p-value** is the probability of null hypothesis being true."
   ]
  },
  {
   "cell_type": "code",
   "execution_count": 12,
   "metadata": {
    "id": "6kTNDptbb3ye",
    "outputId": "440ec898-20e5-4ca4-d5dc-85c43247e6a8"
   },
   "outputs": [
    {
     "name": "stdout",
     "output_type": "stream",
     "text": [
      "T-statistic: 1.4113196603612885\n",
      "P-value: 0.168789612370826\n"
     ]
    }
   ],
   "source": [
    "# Print results\n",
    "print(\"T-statistic:\", t_statistic)\n",
    "print(\"P-value:\", p_value)"
   ]
  },
  {
   "cell_type": "markdown",
   "metadata": {
    "id": "224Pd6vgb3yg"
   },
   "source": [
    "### Step 5: Decide to reject or not to reject the null hypothesis based on the t-test"
   ]
  },
  {
   "cell_type": "code",
   "execution_count": 19,
   "metadata": {
    "id": "Li5vbRrkb3yg",
    "outputId": "0aae5590-78af-4d9d-fa0f-07d3efb07fbd"
   },
   "outputs": [
    {
     "name": "stdout",
     "output_type": "stream",
     "text": [
      "Level of significance: 0.05\n",
      "P-value: 0.168789612370826\n",
      "We have no evidence to reject the null hypothesis since p-value is greater than the level of significance. The mean internet usage is 144 min.\n"
     ]
    }
   ],
   "source": [
    "# Significance level. Cinfidence Interval is 95%\n",
    "alpha = 0.05\n",
    "\n",
    "print('Level of significance: %.2f' %alpha)\n",
    "print(\"P-value:\", p_value)\n",
    "\n",
    "if p_value < alpha:\n",
    "    print(\"We have evidence to reject the null hypothesis since p-value is less than the level of significance. The mean internet usage is not equal to 144 min.\")\n",
    "else:\n",
    "    print(\"We have no evidence to reject the null hypothesis since p-value is greater than the level of significance. The mean internet usage is 144 min.\")"
   ]
  },
  {
   "cell_type": "markdown",
   "metadata": {
    "id": "0cx01v8Ib3yj"
   },
   "source": [
    "**Observation** \n",
    "- So at 5% significance level, we do not have enough statistical evidence to prove that the mean time spent on the Internet is not equal to 144 minutes. "
   ]
  },
  {
   "cell_type": "markdown",
   "metadata": {},
   "source": [
    "    "
   ]
  },
  {
   "cell_type": "markdown",
   "metadata": {},
   "source": [
    "## Practice Scenarios"
   ]
  },
  {
   "cell_type": "markdown",
   "metadata": {},
   "source": [
    "Some examples to practice creating a null and alternate hypothesis \n",
    "\n",
    "**Scenario I:** The average test score of students in a course is 75. A teacher believes that a new teaching method has increased the average test scores of students. Using a sample size (n): 30 students, she measures the test scores of students who received the new teaching method and finds the Mean Test Score (μ): 85 with a Standard Deviation (σ): 10\n",
    "\n",
    "a. State the null and alternative hypothesis.\n",
    "b. At a 99% confidence level, is there enough evidence to discard the null hypothesis? \n",
    "\n",
    "**Null Hypothesis (H0):** The average test score of students using the new teaching method is equal to 75.\n",
    "\n",
    "H0: μ = 75\n",
    "\n",
    "\n",
    "**Alternative Hypothesis (H1):** The average test score of students using the new teaching method is greater than 75.\n",
    "\n",
    "H1: μ > 75\n"
   ]
  },
  {
   "cell_type": "markdown",
   "metadata": {},
   "source": [
    "Let's understand this:\n",
    "\n",
    "* Step 1 - Let's find the t value that corresponds to critical t value\n",
    "* Step 2 - Refer the t-distribution table\n",
    "* Step 3 - Calculate the df (i.e. degrees of freedom)\n",
    "\n",
    "df = n - 1 (n = sample size)\n",
    "df = 30 - 1 = 29\n",
    "\n",
    "In the table, locate 29 in df column, and locate the 𝛼 value for a one tail test (which is 0.01, since 99% confidence interval)\n",
    "\n",
    "Therefore our `Critical t-value is 2.46202`\n",
    "+ 2.462 on right and - 2.46202 on the left\n",
    "\n",
    "Our problem deals with the positive side (> 75) so we will consider + 2.462\n",
    "\n"
   ]
  },
  {
   "cell_type": "markdown",
   "metadata": {},
   "source": [
    "#### You can calculate the same with the code"
   ]
  },
  {
   "cell_type": "code",
   "execution_count": 25,
   "metadata": {},
   "outputs": [
    {
     "name": "stdout",
     "output_type": "stream",
     "text": [
      "Critical t-value: 2.4620213601503833\n"
     ]
    }
   ],
   "source": [
    "# Declare the significance level (α) and degrees of freedom (df)\n",
    "\n",
    "# Example: 1% significance level or 99% confidence level\n",
    "alpha = 0.01  \n",
    "\n",
    "# Degrees of freedom for a one-sample t-test (sample size - 1)\n",
    "df = 29  \n",
    "\n",
    "# Calculate the critical t-value\n",
    "critical_t = stats.t.ppf(1 - alpha, df)\n",
    "\n",
    "print(\"Critical t-value:\", critical_t) # Same thing what we have above from the table"
   ]
  },
  {
   "cell_type": "code",
   "execution_count": 21,
   "metadata": {},
   "outputs": [
    {
     "name": "stdout",
     "output_type": "stream",
     "text": [
      "T-statistic: 7.183166147471133\n",
      "P-value: 3.2985740900551015e-08\n"
     ]
    }
   ],
   "source": [
    "# Sample data parameters\n",
    "# Mean test score of students using the new teaching method\n",
    "sample_mean = 85  \n",
    "\n",
    "# Known population mean\n",
    "population_mean = 75\n",
    "\n",
    "# Standard deviation of the sample\n",
    "sample_std = 10  \n",
    "\n",
    "# Sample size\n",
    "sample_size = 30  \n",
    "\n",
    "# Generate sample scores based on the provided parameters\n",
    "sample_scores = np.random.normal(sample_mean, sample_std, sample_size)\n",
    "\n",
    "# Perform one-sample t-test\n",
    "t_statistic, p_value = stats.ttest_1samp(sample_scores, population_mean, alternative='greater')\n",
    "\n",
    "print(\"T-statistic:\", t_statistic)\n",
    "print(\"P-value:\", p_value)"
   ]
  },
  {
   "cell_type": "markdown",
   "metadata": {},
   "source": [
    "    "
   ]
  },
  {
   "cell_type": "markdown",
   "metadata": {},
   "source": [
    "### t-statistic:\n",
    "\n",
    "In hypothesis testing, you typically compare the t-statistic to a critical value from the t-distribution or use it to calculate a p-value to determine the statistical significance of the observed difference between the sample mean and the population mean.\n",
    "\n",
    "\n",
    "**Compare to Critical Value:** Determine whether the absolute value of the t-statistic exceeds a critical value from the t-distribution corresponding to a specified significance level and degrees of freedom. If the absolute value of the t-statistic is greater than the critical value, you can reject the null hypothesis.\n",
    "\n",
    "**Calculate P-value:** Calculate the probability of observing a extreme t-statistic liek above, assuming the null hypothesis is true. You can use this p-value to determine the statistical significance of the observed difference. If the p-value is less than a chosen significance level (e.g., α = 0.01), you can reject the null hypothesis.\n",
    "\n",
    "**Interpretation:** Interpret the t-statistic in the context of the research question. A larger absolute value of the t-statistic suggests a greater difference between the sample mean and the population mean, which may indicate stronger evidence against the null hypothesis."
   ]
  },
  {
   "cell_type": "markdown",
   "metadata": {},
   "source": [
    "In our scenario the p-value is less than the chosen significane level of 0.01, so we will reject the null hypothesis.\n",
    "The t-statistic falls in the rejection area."
   ]
  },
  {
   "cell_type": "markdown",
   "metadata": {},
   "source": [
    "    "
   ]
  },
  {
   "cell_type": "markdown",
   "metadata": {},
   "source": [
    "![T-statistic](T-Statistic.png)"
   ]
  },
  {
   "cell_type": "markdown",
   "metadata": {},
   "source": [
    "#### If you just want to use the statistics and not generate random scores. However the T-statistic value will change, but the result will be same"
   ]
  },
  {
   "cell_type": "code",
   "execution_count": 27,
   "metadata": {},
   "outputs": [
    {
     "name": "stdout",
     "output_type": "stream",
     "text": [
      "T-statistic: 5.477225575051661\n",
      "P-value: 3.3695726734707904e-06\n"
     ]
    }
   ],
   "source": [
    "# Scenario 1 data\n",
    "\n",
    "# Mean test score of students using the new teaching method\n",
    "sample_mean = 85  \n",
    "\n",
    "# Known population mean\n",
    "population_mean = 75  \n",
    "\n",
    "# Standard deviation of the sample\n",
    "sample_std = 10  \n",
    "\n",
    "# Sample size\n",
    "sample_size = 30 \n",
    "\n",
    "# Calculate the t-statistic\n",
    "t_statistic = (sample_mean - population_mean) / (sample_std / np.sqrt(sample_size))\n",
    "\n",
    "# Degrees of freedom\n",
    "df = sample_size - 1\n",
    "\n",
    "# Calculate the p-value\n",
    "p_value = stats.t.sf(np.abs(t_statistic), df)\n",
    "\n",
    "print(\"T-statistic:\", t_statistic)\n",
    "print(\"P-value:\", p_value)"
   ]
  },
  {
   "cell_type": "markdown",
   "metadata": {},
   "source": [
    "    "
   ]
  },
  {
   "cell_type": "markdown",
   "metadata": {},
   "source": [
    "\n",
    "**Scenario II:** The average weight loss for participants in a weight loss program is 8 lbs. A nutritionist wants to test whether there is a difference in the average weight loss between two diet plans. She recruits 60 participants and assigns 30 to each diet plan. After the intervention, she finds:\n",
    "\n",
    "Sample Size (n): 60 (30 in each group)\n",
    "Mean Weight Loss:\n",
    "    Diet Plan A: 8 lbs\n",
    "    Diet Plan B: 10 lbs\n",
    "Standard Deviation (σ): 5\n",
    "\n",
    "Null Hypothesis (H0): There is no difference in the average weight loss between Diet Plan A and Diet Plan B.\n",
    "H0: μ(A) - μ(B) = 0\n",
    "\n",
    "Alternative Hypothesis (H1): There is a difference in the average weight loss between Diet Plan A and Diet Plan B.\n",
    "H1: μ(A) - μ(B) ≠ 0"
   ]
  }
 ],
 "metadata": {
  "colab": {
   "name": "Mobile_Internet_Case_Study.ipynb",
   "provenance": []
  },
  "kernelspec": {
   "display_name": "Python 3 (ipykernel)",
   "language": "python",
   "name": "python3"
  },
  "language_info": {
   "codemirror_mode": {
    "name": "ipython",
    "version": 3
   },
   "file_extension": ".py",
   "mimetype": "text/x-python",
   "name": "python",
   "nbconvert_exporter": "python",
   "pygments_lexer": "ipython3",
   "version": "3.9.12"
  },
  "toc": {
   "base_numbering": 1,
   "nav_menu": {},
   "number_sections": true,
   "sideBar": true,
   "skip_h1_title": false,
   "title_cell": "Table of Contents",
   "title_sidebar": "Contents",
   "toc_cell": false,
   "toc_position": {},
   "toc_section_display": true,
   "toc_window_display": false
  },
  "varInspector": {
   "cols": {
    "lenName": 16,
    "lenType": 16,
    "lenVar": 40
   },
   "kernels_config": {
    "python": {
     "delete_cmd_postfix": "",
     "delete_cmd_prefix": "del ",
     "library": "var_list.py",
     "varRefreshCmd": "print(var_dic_list())"
    },
    "r": {
     "delete_cmd_postfix": ") ",
     "delete_cmd_prefix": "rm(",
     "library": "var_list.r",
     "varRefreshCmd": "cat(var_dic_list()) "
    }
   },
   "types_to_exclude": [
    "module",
    "function",
    "builtin_function_or_method",
    "instance",
    "_Feature"
   ],
   "window_display": false
  }
 },
 "nbformat": 4,
 "nbformat_minor": 1
}
